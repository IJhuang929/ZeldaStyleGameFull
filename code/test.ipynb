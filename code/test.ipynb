{
 "cells": [
  {
   "cell_type": "code",
   "execution_count": 6,
   "metadata": {},
   "outputs": [
    {
     "data": {
      "text/plain": [
       "'../graphics/particles/flame/fire.png'"
      ]
     },
     "execution_count": 6,
     "metadata": {},
     "output_type": "execute_result"
    }
   ],
   "source": [
    "import pygame\n",
    "\n",
    "magic_data = {\n",
    "    \"flame\": {\n",
    "        \"strength\": 5,\n",
    "        \"cost\": 20,\n",
    "        \"graphic\": \"../graphics/particles/flame/fire.png\",\n",
    "    },\n",
    "    \"heal\": {\n",
    "        \"strength\": 20,\n",
    "        \"cost\": 10,\n",
    "        \"graphic\": \"../graphics/particles/heal/heal.png\",\n",
    "    },\n",
    "}\n",
    "\n",
    "magic_data[\"flame\"].get(\"graphic\")"
   ]
  },
  {
   "cell_type": "code",
   "execution_count": 1,
   "metadata": {},
   "outputs": [
    {
     "name": "stdout",
     "output_type": "stream",
     "text": [
      "0\n",
      "1\n",
      "2\n",
      "4\n"
     ]
    }
   ],
   "source": [
    "for i in range(5):\n",
    "    if i == 3:\n",
    "        continue\n",
    "    print(i)"
   ]
  },
  {
   "cell_type": "code",
   "execution_count": null,
   "metadata": {},
   "outputs": [],
   "source": [
    "\"\"\"ui.py turn these two into function\"\"\"\n",
    "\n",
    "# convert weapon dictionary to list\n",
    "weapon_graphics = []\n",
    "for weapon in weapon_data.values():\n",
    "    path = weapon[\"graphic\"]\n",
    "    weapon = pygame.image.load(path).convert_alpha()\n",
    "    weapon_graphics.append(weapon)\n",
    "\n",
    "# convert magic dictionary to list\n",
    "magic_graphics = []\n",
    "for magic in magic_data.values():\n",
    "    magic = pygame.image.load(magic[\"graphic\"]).convert_alpha()\n",
    "    magic_graphics.append(magic)"
   ]
  }
 ],
 "metadata": {
  "kernelspec": {
   "display_name": "base",
   "language": "python",
   "name": "python3"
  },
  "language_info": {
   "codemirror_mode": {
    "name": "ipython",
    "version": 3
   },
   "file_extension": ".py",
   "mimetype": "text/x-python",
   "name": "python",
   "nbconvert_exporter": "python",
   "pygments_lexer": "ipython3",
   "version": "3.9.13"
  }
 },
 "nbformat": 4,
 "nbformat_minor": 2
}
